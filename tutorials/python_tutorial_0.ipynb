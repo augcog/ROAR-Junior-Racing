{
 "cells": [
  {
   "cell_type": "markdown",
   "metadata": {
    "collapsed": true,
    "pycharm": {
     "name": "#%% md\n"
    }
   },
   "source": [
    "# Python Tutorial 0"
   ]
  },
  {
   "cell_type": "markdown",
   "source": [
    "## Core Take away\n",
    "1. Types of Native Variables\n",
    "2. Variable Assignment"
   ],
   "metadata": {
    "collapsed": false,
    "pycharm": {
     "name": "#%% md\n"
    }
   }
  },
  {
   "cell_type": "markdown",
   "source": [
    "### Python Native Data types\n",
    "Numeric:\n",
    "1. int\n",
    "2. float\n",
    "3. complex\n",
    "\n",
    "Sequence:\n",
    "1. string\n",
    "2. list\n",
    "3. tuple\n",
    "\n",
    "Other:\n",
    "1. Boolean\n",
    "2. Set\n",
    "3. Mapping"
   ],
   "metadata": {
    "collapsed": false,
    "pycharm": {
     "name": "#%% md\n"
    }
   }
  },
  {
   "cell_type": "markdown",
   "source": [
    "#### Numeric types"
   ],
   "metadata": {
    "collapsed": false,
    "pycharm": {
     "name": "#%% md\n"
    }
   }
  },
  {
   "cell_type": "code",
   "execution_count": 5,
   "outputs": [
    {
     "name": "stdout",
     "output_type": "stream",
     "text": [
      "<class 'int'> <class 'float'> <class 'complex'>\n"
     ]
    }
   ],
   "source": [
    "i_am_integer = 1\n",
    "i_am_float = 1.0\n",
    "i_am_complex = 1+2j\n",
    "print(type(i_am_integer),type(i_am_float),type(i_am_complex))"
   ],
   "metadata": {
    "collapsed": false,
    "pycharm": {
     "name": "#%%\n"
    }
   }
  },
  {
   "cell_type": "markdown",
   "source": [
    "#### Sequence Type"
   ],
   "metadata": {
    "collapsed": false,
    "pycharm": {
     "name": "#%% md\n"
    }
   }
  },
  {
   "cell_type": "code",
   "execution_count": 9,
   "outputs": [
    {
     "name": "stdout",
     "output_type": "stream",
     "text": [
      "<class 'str'> <class 'list'> <class 'tuple'>\n"
     ]
    }
   ],
   "source": [
    "i_am_string = \"i am string\"\n",
    "i_am_list = [\"i\", \"am\", \"list\"]\n",
    "i_am_tuple = (\"i\", \"am\", \"tuple\")\n",
    "print(type(i_am_string), type(i_am_list), type(i_am_tuple))"
   ],
   "metadata": {
    "collapsed": false,
    "pycharm": {
     "name": "#%%\n"
    }
   }
  },
  {
   "cell_type": "code",
   "execution_count": null,
   "outputs": [],
   "source": [],
   "metadata": {
    "collapsed": false,
    "pycharm": {
     "name": "#%%\n"
    }
   }
  },
  {
   "cell_type": "code",
   "execution_count": null,
   "outputs": [],
   "source": [
    "ip_addr: str = \"192.168.1.27\"\n",
    "cmd: dict = {\n",
    "    \"forward\": True,\n",
    "    \"left_spd\": 1,\n",
    "    \"right_spd\": 1\n",
    "}"
   ],
   "metadata": {
    "collapsed": false,
    "pycharm": {
     "name": "#%%\n"
    }
   }
  },
  {
   "cell_type": "markdown",
   "source": [
    "## Today's Challenge\n",
    "Can you spell out your name three times using a string, list, and a tuple?"
   ],
   "metadata": {
    "collapsed": false,
    "pycharm": {
     "name": "#%% md\n"
    }
   }
  },
  {
   "cell_type": "code",
   "execution_count": null,
   "outputs": [],
   "source": [
    "\"\"\"YOUR CODE HERE\"\"\""
   ],
   "metadata": {
    "collapsed": false,
    "pycharm": {
     "name": "#%%\n"
    }
   }
  }
 ],
 "metadata": {
  "kernelspec": {
   "display_name": "Python 3",
   "language": "python",
   "name": "python3"
  },
  "language_info": {
   "codemirror_mode": {
    "name": "ipython",
    "version": 2
   },
   "file_extension": ".py",
   "mimetype": "text/x-python",
   "name": "python",
   "nbconvert_exporter": "python",
   "pygments_lexer": "ipython2",
   "version": "2.7.6"
  }
 },
 "nbformat": 4,
 "nbformat_minor": 0
}