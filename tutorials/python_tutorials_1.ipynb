{
 "cells": [
  {
   "cell_type": "markdown",
   "source": [
    "# Python Tutorial 1"
   ],
   "metadata": {
    "collapsed": false,
    "pycharm": {
     "name": "#%% md\n"
    }
   }
  },
  {
   "cell_type": "markdown",
   "source": [
    "### Core take aways\n",
    "1. Functions and Function Calls\n",
    "\n",
    "Without further ado, let's get started."
   ],
   "metadata": {
    "collapsed": false,
    "pycharm": {
     "name": "#%% md\n"
    }
   }
  },
  {
   "cell_type": "markdown",
   "source": [
    "You should have received a test vehicle. Now, your test vehicle is configured to receive commands via a web protocol called TCP. We will not get into what it is, but will learn how to use it.\n",
    "\n",
    "Python's [requests](https://docs.python-requests.org/en/latest/) library is a great tool for us to do that. We will introduce you to GET the GET request call."
   ],
   "metadata": {
    "collapsed": false,
    "pycharm": {
     "name": "#%% md\n"
    }
   }
  },
  {
   "cell_type": "markdown",
   "source": [
    "## About the Vehicle\n",
    "The vehicle is configured to receive commands in the below format\n",
    "\n",
    "Format of our command:\n",
    "```\n",
    "{\n",
    "    DIRECTION: True/False,\n",
    "    \"left_spd\": [0-1],\n",
    "    \"right_spd\": [0-1],\n",
    "}\n",
    "```\n",
    "DIRECTION is one of [\"forward\", \"backward\", \"stop\", \"turnLeft\", \"turnRight\"]\n",
    "\n",
    "Example:\n",
    "```\n",
    "{\n",
    "    \"forward: True,\n",
    "    \"left_spd\": 1,\n",
    "    \"right_spd\": 1,\n",
    "}\n",
    "```"
   ],
   "metadata": {
    "collapsed": false,
    "pycharm": {
     "name": "#%% md\n"
    }
   }
  },
  {
   "cell_type": "markdown",
   "source": [
    "### How to use other people's pre-defined functions"
   ],
   "metadata": {
    "collapsed": false,
    "pycharm": {
     "name": "#%% md\n"
    }
   }
  },
  {
   "cell_type": "code",
   "execution_count": 24,
   "outputs": [],
   "source": [
    "import requests # we first import library that contain the function of interest"
   ],
   "metadata": {
    "collapsed": false,
    "pycharm": {
     "name": "#%%\n"
    }
   }
  },
  {
   "cell_type": "code",
   "execution_count": 25,
   "outputs": [],
   "source": [
    "ip_addr: str = \"192.168.1.27\"\n",
    "cmd = {\n",
    "    \"forward\": True,\n",
    "    \"left_spd\": 1,\n",
    "    \"right_spd\": 1\n",
    "}"
   ],
   "metadata": {
    "collapsed": false,
    "pycharm": {
     "name": "#%%\n"
    }
   }
  },
  {
   "cell_type": "code",
   "execution_count": 26,
   "outputs": [
    {
     "data": {
      "text/plain": "(200, b'0.00')"
     },
     "execution_count": 26,
     "metadata": {},
     "output_type": "execute_result"
    }
   ],
   "source": [
    "# I will use the requests.get function call, supplying cmd as the parameter.\n",
    "response = requests.get(url=f\"http://{ip_addr}:81\", params=cmd)\n",
    "response.status_code, response.content"
   ],
   "metadata": {
    "collapsed": false,
    "pycharm": {
     "name": "#%%\n"
    }
   }
  },
  {
   "cell_type": "markdown",
   "source": [
    "### How to create your own function\n",
    "\n",
    "Functions in Python follow the following format:\n",
    "\n",
    "```\n",
    "def YOUR_FUNCTION_NAME( Arg1, Arg2, .... ):\n",
    "    SOMETHINGS TO DO\n",
    "```\n",
    "\n",
    "Below is an example:\n",
    "Note that we have added description of the function, description of each argument and return variable. Furthermore, we also demonstrated the usage of Python Typing.\n"
   ],
   "metadata": {
    "collapsed": false,
    "pycharm": {
     "name": "#%% md\n"
    }
   }
  },
  {
   "cell_type": "code",
   "execution_count": 27,
   "outputs": [],
   "source": [
    "from typing import Optional # this is a typing library that helps other people to understand what type of variable is being used\n",
    "\n",
    "def sendCmd(ip_addr: str, cmd: dict, timeout: int = 2) -> Optional[bytes]:\n",
    "    \"\"\"\n",
    "    A wrapper for sending command. Command should be in the format of\n",
    "    {\n",
    "        DIRECTION: True/False,\n",
    "        \"left_spd\": [0-1],\n",
    "        \"right_spd\": [0-1],\n",
    "    }\n",
    "\n",
    "    This function will send a GET request to target URL with CMD as parameter.\n",
    "    If the GET request failed, it will print the error and return None, otherwise it will return the content of the response, which is the ultrasonic sensor reading.\n",
    "    :param ip_addr: ip address of the vehicle\n",
    "    :param cmd: command to send\n",
    "    :return:\n",
    "    None if GET request failed, ultrasonic sensor reading in received in bytes if GET request is successful.\n",
    "    \"\"\"\n",
    "    try:\n",
    "        response = requests.get(f\"http://{ip_addr}:81\", params=cmd, timeout=timeout)\n",
    "        return response.content\n",
    "    except Exception as e:\n",
    "        print(e)\n",
    "        return None"
   ],
   "metadata": {
    "collapsed": false,
    "pycharm": {
     "name": "#%%\n"
    }
   }
  },
  {
   "cell_type": "code",
   "execution_count": 28,
   "outputs": [
    {
     "data": {
      "text/plain": "b'0.00'"
     },
     "execution_count": 28,
     "metadata": {},
     "output_type": "execute_result"
    }
   ],
   "source": [
    "sendCmd(ip_addr=ip_addr, cmd=cmd)"
   ],
   "metadata": {
    "collapsed": false,
    "pycharm": {
     "name": "#%%\n"
    }
   }
  },
  {
   "cell_type": "markdown",
   "source": [
    "# Today's Challenge:\n",
    "1. Make the vehicle go as fast as possible backward\n",
    "2. Make the vehicle turn right\n"
   ],
   "metadata": {
    "collapsed": false,
    "pycharm": {
     "name": "#%% md\n"
    }
   }
  },
  {
   "cell_type": "code",
   "execution_count": 29,
   "outputs": [
    {
     "data": {
      "text/plain": "'YOUR CODE HERE'"
     },
     "execution_count": 29,
     "metadata": {},
     "output_type": "execute_result"
    }
   ],
   "source": [
    "\"\"\"YOUR CODE HERE\"\"\""
   ],
   "metadata": {
    "collapsed": false,
    "pycharm": {
     "name": "#%%\n"
    }
   }
  }
 ],
 "metadata": {
  "kernelspec": {
   "display_name": "Python 3",
   "language": "python",
   "name": "python3"
  },
  "language_info": {
   "codemirror_mode": {
    "name": "ipython",
    "version": 2
   },
   "file_extension": ".py",
   "mimetype": "text/x-python",
   "name": "python",
   "nbconvert_exporter": "python",
   "pygments_lexer": "ipython2",
   "version": "2.7.6"
  }
 },
 "nbformat": 4,
 "nbformat_minor": 0
}